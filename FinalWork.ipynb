{
 "cells": [
  {
   "cell_type": "markdown",
   "metadata": {},
   "source": [
    "# Курсовой проект по дисциплине \"Теория вероятностей и математическая статистика\"\n",
    "\n",
    "## Тема: \"Исследование статистики покупок в продуктовом интернет-магазине\"\n",
    "\n"
   ]
  },
  {
   "cell_type": "markdown",
   "metadata": {},
   "source": [
    "### Тема и цели проекта\n",
    "\n",
    "В рамках проекта будет изучена статистика покупок и посещений страниц сайта интернет-магазина по продаже продуктов.\n",
    "\n",
    "Данные будут взяты за последние 3 года (2017-2019) (интернет-магазин занимается продажами уже более 8 лет).\n",
    "\n",
    "Основная цель - изучение величины выручки, среднего чека и количества заказов. В рамках проекта будет осуществлена попытка: \n",
    "* определить храктер распределения данных величин;\n",
    "* их математическое ожидание;\n",
    "* дисперсию;\n",
    "* корреляцию с другими признаками."
   ]
  },
  {
   "cell_type": "markdown",
   "metadata": {},
   "source": [
    "### Описание собранных данных\n",
    "\n",
    "В проекте будет использоваться 3 набора данных.\n",
    "\n",
    "#### Статистика по заказам orders.csv\n",
    "\n",
    "Это данные собраные непосредственно с интерент-магазина. Все поля этих данных являются надежными, кроме поля с весом заказа, вес может отличаться от фактического.\n",
    "\n",
    "В файл есть следующие колонки:\n",
    "* date - дата\n",
    "* year - год \n",
    "* month - месяц\n",
    "* day - день месяца\n",
    "* week_day - день недели (1 - понедельник, .... 7 - воскресенье)\n",
    "* orders_cnt - количество заказов\n",
    "* orders_sum - сумма выручки\n",
    "* orders_weight - общий вес заказов в граммах\n",
    "* orders_weight_avg - средний вес заказа в граммах\n",
    "* orders_sum_avg - средняя сумма заказа"
   ]
  },
  {
   "cell_type": "code",
   "execution_count": 1,
   "metadata": {},
   "outputs": [
    {
     "data": {
      "text/html": [
       "<div>\n",
       "<style scoped>\n",
       "    .dataframe tbody tr th:only-of-type {\n",
       "        vertical-align: middle;\n",
       "    }\n",
       "\n",
       "    .dataframe tbody tr th {\n",
       "        vertical-align: top;\n",
       "    }\n",
       "\n",
       "    .dataframe thead th {\n",
       "        text-align: right;\n",
       "    }\n",
       "</style>\n",
       "<table border=\"1\" class=\"dataframe\">\n",
       "  <thead>\n",
       "    <tr style=\"text-align: right;\">\n",
       "      <th></th>\n",
       "      <th>date</th>\n",
       "      <th>year</th>\n",
       "      <th>month</th>\n",
       "      <th>day</th>\n",
       "      <th>week_day</th>\n",
       "      <th>orders_cnt</th>\n",
       "      <th>orders_sum</th>\n",
       "      <th>orders_weight</th>\n",
       "      <th>orders_weight_avg</th>\n",
       "      <th>orders_sum_avg</th>\n",
       "    </tr>\n",
       "  </thead>\n",
       "  <tbody>\n",
       "    <tr>\n",
       "      <th>0</th>\n",
       "      <td>2017-01-01</td>\n",
       "      <td>2017</td>\n",
       "      <td>1</td>\n",
       "      <td>1</td>\n",
       "      <td>7</td>\n",
       "      <td>7</td>\n",
       "      <td>44918</td>\n",
       "      <td>68070</td>\n",
       "      <td>9724.285714</td>\n",
       "      <td>6416.857143</td>\n",
       "    </tr>\n",
       "    <tr>\n",
       "      <th>1</th>\n",
       "      <td>2017-01-02</td>\n",
       "      <td>2017</td>\n",
       "      <td>1</td>\n",
       "      <td>2</td>\n",
       "      <td>1</td>\n",
       "      <td>15</td>\n",
       "      <td>89206</td>\n",
       "      <td>161360</td>\n",
       "      <td>10757.333333</td>\n",
       "      <td>5947.066667</td>\n",
       "    </tr>\n",
       "    <tr>\n",
       "      <th>2</th>\n",
       "      <td>2017-01-03</td>\n",
       "      <td>2017</td>\n",
       "      <td>1</td>\n",
       "      <td>3</td>\n",
       "      <td>2</td>\n",
       "      <td>21</td>\n",
       "      <td>129101</td>\n",
       "      <td>232040</td>\n",
       "      <td>11049.523810</td>\n",
       "      <td>6147.666667</td>\n",
       "    </tr>\n",
       "    <tr>\n",
       "      <th>3</th>\n",
       "      <td>2017-01-04</td>\n",
       "      <td>2017</td>\n",
       "      <td>1</td>\n",
       "      <td>4</td>\n",
       "      <td>3</td>\n",
       "      <td>20</td>\n",
       "      <td>181116</td>\n",
       "      <td>227840</td>\n",
       "      <td>11392.000000</td>\n",
       "      <td>9055.800000</td>\n",
       "    </tr>\n",
       "    <tr>\n",
       "      <th>4</th>\n",
       "      <td>2017-01-05</td>\n",
       "      <td>2017</td>\n",
       "      <td>1</td>\n",
       "      <td>5</td>\n",
       "      <td>4</td>\n",
       "      <td>21</td>\n",
       "      <td>223591</td>\n",
       "      <td>246350</td>\n",
       "      <td>11730.952381</td>\n",
       "      <td>10647.190476</td>\n",
       "    </tr>\n",
       "  </tbody>\n",
       "</table>\n",
       "</div>"
      ],
      "text/plain": [
       "         date  year  month  day  week_day  orders_cnt  orders_sum  \\\n",
       "0  2017-01-01  2017      1    1         7           7       44918   \n",
       "1  2017-01-02  2017      1    2         1          15       89206   \n",
       "2  2017-01-03  2017      1    3         2          21      129101   \n",
       "3  2017-01-04  2017      1    4         3          20      181116   \n",
       "4  2017-01-05  2017      1    5         4          21      223591   \n",
       "\n",
       "   orders_weight  orders_weight_avg  orders_sum_avg  \n",
       "0          68070        9724.285714     6416.857143  \n",
       "1         161360       10757.333333     5947.066667  \n",
       "2         232040       11049.523810     6147.666667  \n",
       "3         227840       11392.000000     9055.800000  \n",
       "4         246350       11730.952381    10647.190476  "
      ]
     },
     "execution_count": 1,
     "metadata": {},
     "output_type": "execute_result"
    }
   ],
   "source": [
    "import numpy as np\n",
    "import pandas as pd\n",
    "import math\n",
    "from matplotlib import pyplot as plt\n",
    "plt.style.use('seaborn-whitegrid')\n",
    "\n",
    "\n",
    "orders = pd.read_csv('orders.csv')\n",
    "orders.head()"
   ]
  },
  {
   "cell_type": "markdown",
   "metadata": {},
   "source": [
    "#### Статистика посещений\n",
    "\n",
    "Эти данные собраны по данным сервиса google_analytics. К сожалению, данные могут быть неверными как из-за ошибок (на сайте в googel_analytics), так и из-за учета ботов.\n",
    "\n",
    "В файл есть следующие колонки:\n",
    "\n",
    "* date - дата\n",
    "* viewes - количество просмотров страниц за день\n",
    "* users\t- количество посетителей за день"
   ]
  },
  {
   "cell_type": "code",
   "execution_count": 2,
   "metadata": {},
   "outputs": [
    {
     "data": {
      "text/html": [
       "<div>\n",
       "<style scoped>\n",
       "    .dataframe tbody tr th:only-of-type {\n",
       "        vertical-align: middle;\n",
       "    }\n",
       "\n",
       "    .dataframe tbody tr th {\n",
       "        vertical-align: top;\n",
       "    }\n",
       "\n",
       "    .dataframe thead th {\n",
       "        text-align: right;\n",
       "    }\n",
       "</style>\n",
       "<table border=\"1\" class=\"dataframe\">\n",
       "  <thead>\n",
       "    <tr style=\"text-align: right;\">\n",
       "      <th></th>\n",
       "      <th>date</th>\n",
       "      <th>viewes</th>\n",
       "      <th>users</th>\n",
       "    </tr>\n",
       "  </thead>\n",
       "  <tbody>\n",
       "    <tr>\n",
       "      <th>1090</th>\n",
       "      <td>2019-12-27</td>\n",
       "      <td>10800</td>\n",
       "      <td>1706</td>\n",
       "    </tr>\n",
       "    <tr>\n",
       "      <th>1091</th>\n",
       "      <td>2019-12-28</td>\n",
       "      <td>9866</td>\n",
       "      <td>1564</td>\n",
       "    </tr>\n",
       "    <tr>\n",
       "      <th>1092</th>\n",
       "      <td>2019-12-29</td>\n",
       "      <td>11720</td>\n",
       "      <td>1713</td>\n",
       "    </tr>\n",
       "    <tr>\n",
       "      <th>1093</th>\n",
       "      <td>2019-12-30</td>\n",
       "      <td>9751</td>\n",
       "      <td>1952</td>\n",
       "    </tr>\n",
       "    <tr>\n",
       "      <th>1094</th>\n",
       "      <td>2019-12-31</td>\n",
       "      <td>5198</td>\n",
       "      <td>1357</td>\n",
       "    </tr>\n",
       "  </tbody>\n",
       "</table>\n",
       "</div>"
      ],
      "text/plain": [
       "            date  viewes  users\n",
       "1090  2019-12-27   10800   1706\n",
       "1091  2019-12-28    9866   1564\n",
       "1092  2019-12-29   11720   1713\n",
       "1093  2019-12-30    9751   1952\n",
       "1094  2019-12-31    5198   1357"
      ]
     },
     "execution_count": 2,
     "metadata": {},
     "output_type": "execute_result"
    }
   ],
   "source": [
    "visits = pd.read_csv('visits.csv')\n",
    "visits.tail()"
   ]
  },
  {
   "cell_type": "markdown",
   "metadata": {},
   "source": [
    "#### Курс доллара по дня за данные даты \n",
    "\n",
    "Данные выгружены с сайта finam.ru\n",
    "\n",
    "* date - дата\n",
    "* usd - официальный курс доллара"
   ]
  },
  {
   "cell_type": "code",
   "execution_count": 3,
   "metadata": {},
   "outputs": [
    {
     "data": {
      "text/html": [
       "<div>\n",
       "<style scoped>\n",
       "    .dataframe tbody tr th:only-of-type {\n",
       "        vertical-align: middle;\n",
       "    }\n",
       "\n",
       "    .dataframe tbody tr th {\n",
       "        vertical-align: top;\n",
       "    }\n",
       "\n",
       "    .dataframe thead th {\n",
       "        text-align: right;\n",
       "    }\n",
       "</style>\n",
       "<table border=\"1\" class=\"dataframe\">\n",
       "  <thead>\n",
       "    <tr style=\"text-align: right;\">\n",
       "      <th></th>\n",
       "      <th>date</th>\n",
       "      <th>usd</th>\n",
       "    </tr>\n",
       "  </thead>\n",
       "  <tbody>\n",
       "    <tr>\n",
       "      <th>0</th>\n",
       "      <td>2017-01-01</td>\n",
       "      <td>60.6569</td>\n",
       "    </tr>\n",
       "    <tr>\n",
       "      <th>1</th>\n",
       "      <td>2017-01-02</td>\n",
       "      <td>60.6569</td>\n",
       "    </tr>\n",
       "    <tr>\n",
       "      <th>2</th>\n",
       "      <td>2017-01-03</td>\n",
       "      <td>60.6569</td>\n",
       "    </tr>\n",
       "    <tr>\n",
       "      <th>3</th>\n",
       "      <td>2017-01-04</td>\n",
       "      <td>60.6569</td>\n",
       "    </tr>\n",
       "    <tr>\n",
       "      <th>4</th>\n",
       "      <td>2017-01-05</td>\n",
       "      <td>60.6569</td>\n",
       "    </tr>\n",
       "  </tbody>\n",
       "</table>\n",
       "</div>"
      ],
      "text/plain": [
       "         date      usd\n",
       "0  2017-01-01  60.6569\n",
       "1  2017-01-02  60.6569\n",
       "2  2017-01-03  60.6569\n",
       "3  2017-01-04  60.6569\n",
       "4  2017-01-05  60.6569"
      ]
     },
     "execution_count": 3,
     "metadata": {},
     "output_type": "execute_result"
    }
   ],
   "source": [
    "usd = pd.read_csv('usd.csv')\n",
    "usd.head()"
   ]
  },
  {
   "cell_type": "markdown",
   "metadata": {},
   "source": [
    "Объединим все данные по ключу даты"
   ]
  },
  {
   "cell_type": "code",
   "execution_count": 4,
   "metadata": {},
   "outputs": [
    {
     "data": {
      "text/html": [
       "<div>\n",
       "<style scoped>\n",
       "    .dataframe tbody tr th:only-of-type {\n",
       "        vertical-align: middle;\n",
       "    }\n",
       "\n",
       "    .dataframe tbody tr th {\n",
       "        vertical-align: top;\n",
       "    }\n",
       "\n",
       "    .dataframe thead th {\n",
       "        text-align: right;\n",
       "    }\n",
       "</style>\n",
       "<table border=\"1\" class=\"dataframe\">\n",
       "  <thead>\n",
       "    <tr style=\"text-align: right;\">\n",
       "      <th></th>\n",
       "      <th>year</th>\n",
       "      <th>month</th>\n",
       "      <th>day</th>\n",
       "      <th>week_day</th>\n",
       "      <th>orders_cnt</th>\n",
       "      <th>orders_sum</th>\n",
       "      <th>orders_weight</th>\n",
       "      <th>orders_weight_avg</th>\n",
       "      <th>orders_sum_avg</th>\n",
       "      <th>viewes</th>\n",
       "      <th>users</th>\n",
       "      <th>usd</th>\n",
       "    </tr>\n",
       "    <tr>\n",
       "      <th>date</th>\n",
       "      <th></th>\n",
       "      <th></th>\n",
       "      <th></th>\n",
       "      <th></th>\n",
       "      <th></th>\n",
       "      <th></th>\n",
       "      <th></th>\n",
       "      <th></th>\n",
       "      <th></th>\n",
       "      <th></th>\n",
       "      <th></th>\n",
       "      <th></th>\n",
       "    </tr>\n",
       "  </thead>\n",
       "  <tbody>\n",
       "    <tr>\n",
       "      <th>2017-01-01</th>\n",
       "      <td>2017</td>\n",
       "      <td>1</td>\n",
       "      <td>1</td>\n",
       "      <td>7</td>\n",
       "      <td>7</td>\n",
       "      <td>44918</td>\n",
       "      <td>68070</td>\n",
       "      <td>9724.285714</td>\n",
       "      <td>6416.857143</td>\n",
       "      <td>4534</td>\n",
       "      <td>838</td>\n",
       "      <td>60.6569</td>\n",
       "    </tr>\n",
       "    <tr>\n",
       "      <th>2017-01-02</th>\n",
       "      <td>2017</td>\n",
       "      <td>1</td>\n",
       "      <td>2</td>\n",
       "      <td>1</td>\n",
       "      <td>15</td>\n",
       "      <td>89206</td>\n",
       "      <td>161360</td>\n",
       "      <td>10757.333333</td>\n",
       "      <td>5947.066667</td>\n",
       "      <td>5132</td>\n",
       "      <td>1096</td>\n",
       "      <td>60.6569</td>\n",
       "    </tr>\n",
       "    <tr>\n",
       "      <th>2017-01-03</th>\n",
       "      <td>2017</td>\n",
       "      <td>1</td>\n",
       "      <td>3</td>\n",
       "      <td>2</td>\n",
       "      <td>21</td>\n",
       "      <td>129101</td>\n",
       "      <td>232040</td>\n",
       "      <td>11049.523810</td>\n",
       "      <td>6147.666667</td>\n",
       "      <td>5728</td>\n",
       "      <td>1118</td>\n",
       "      <td>60.6569</td>\n",
       "    </tr>\n",
       "    <tr>\n",
       "      <th>2017-01-04</th>\n",
       "      <td>2017</td>\n",
       "      <td>1</td>\n",
       "      <td>4</td>\n",
       "      <td>3</td>\n",
       "      <td>20</td>\n",
       "      <td>181116</td>\n",
       "      <td>227840</td>\n",
       "      <td>11392.000000</td>\n",
       "      <td>9055.800000</td>\n",
       "      <td>7016</td>\n",
       "      <td>1249</td>\n",
       "      <td>60.6569</td>\n",
       "    </tr>\n",
       "    <tr>\n",
       "      <th>2017-01-05</th>\n",
       "      <td>2017</td>\n",
       "      <td>1</td>\n",
       "      <td>5</td>\n",
       "      <td>4</td>\n",
       "      <td>21</td>\n",
       "      <td>223591</td>\n",
       "      <td>246350</td>\n",
       "      <td>11730.952381</td>\n",
       "      <td>10647.190476</td>\n",
       "      <td>6892</td>\n",
       "      <td>1266</td>\n",
       "      <td>60.6569</td>\n",
       "    </tr>\n",
       "  </tbody>\n",
       "</table>\n",
       "</div>"
      ],
      "text/plain": [
       "            year  month  day  week_day  orders_cnt  orders_sum  orders_weight  \\\n",
       "date                                                                            \n",
       "2017-01-01  2017      1    1         7           7       44918          68070   \n",
       "2017-01-02  2017      1    2         1          15       89206         161360   \n",
       "2017-01-03  2017      1    3         2          21      129101         232040   \n",
       "2017-01-04  2017      1    4         3          20      181116         227840   \n",
       "2017-01-05  2017      1    5         4          21      223591         246350   \n",
       "\n",
       "            orders_weight_avg  orders_sum_avg  viewes  users      usd  \n",
       "date                                                                   \n",
       "2017-01-01        9724.285714     6416.857143    4534    838  60.6569  \n",
       "2017-01-02       10757.333333     5947.066667    5132   1096  60.6569  \n",
       "2017-01-03       11049.523810     6147.666667    5728   1118  60.6569  \n",
       "2017-01-04       11392.000000     9055.800000    7016   1249  60.6569  \n",
       "2017-01-05       11730.952381    10647.190476    6892   1266  60.6569  "
      ]
     },
     "execution_count": 4,
     "metadata": {},
     "output_type": "execute_result"
    }
   ],
   "source": [
    "df = orders.set_index('date').join(visits.set_index('date')).join(usd.set_index('date'))\n",
    "df.head()"
   ]
  },
  {
   "cell_type": "markdown",
   "metadata": {},
   "source": [
    "### 1. Характер распределения данных и основные количественные характеристики"
   ]
  },
  {
   "cell_type": "markdown",
   "metadata": {},
   "source": [
    "Основной интерес для нас представляет такие показатели как количества заказов (orders_cnt), средний чек (orders_sum_avg) и средний вес заказа (orders_weight_avg).\n",
    "\n",
    "Построим гистрограмму этих величин, чтобы принять решение о возможных гипотезах."
   ]
  },
  {
   "cell_type": "code",
   "execution_count": 5,
   "metadata": {},
   "outputs": [
    {
     "data": {
      "image/png": "[encoded data removed]",
      "text/plain": [
       "<Figure size 1296x288 with 3 Axes>"
      ]
     },
     "metadata": {},
     "output_type": "display_data"
    }
   ],
   "source": [
    "def drawHistogram (df, keys, bins=60):\n",
    "    fig, axes = plt.subplots(ncols=len(keys))\n",
    "    fig.set_size_inches(6 * len(keys), 4)\n",
    "    num = 0\n",
    "    for key in keys:\n",
    "        axes[num].hist(df[key], density=True, bins=bins)\n",
    "        axes[num].set_title(key)\n",
    "        num+=1\n",
    "    \n",
    "drawHistogram(df, ['orders_cnt','orders_sum_avg','orders_weight_avg'])"
   ]
  },
  {
   "cell_type": "markdown",
   "metadata": {},
   "source": [
    "Рассчитаем для этих величин выборочное среднее и дисперсию"
   ]
  },
  {
   "cell_type": "code",
   "execution_count": 6,
   "metadata": {},
   "outputs": [
    {
     "data": {
      "text/plain": [
       "(26.30228310502283, 7574.993600254, 13511.424361570153)"
      ]
     },
     "execution_count": 6,
     "metadata": {},
     "output_type": "execute_result"
    }
   ],
   "source": [
    "df['orders_cnt'].mean(), df['orders_sum_avg'].mean(), df['orders_weight_avg'].mean()"
   ]
  },
  {
   "cell_type": "code",
   "execution_count": 7,
   "metadata": {},
   "outputs": [
    {
     "data": {
      "text/plain": [
       "(84.23669496548234, 10702839.907894231, 21392757.76788033)"
      ]
     },
     "execution_count": 7,
     "metadata": {},
     "output_type": "execute_result"
    }
   ],
   "source": [
    "df['orders_cnt'].var(ddof=1), df['orders_sum_avg'].var(ddof=1), df['orders_weight_avg'].var(ddof=1)"
   ]
  },
  {
   "cell_type": "markdown",
   "metadata": {},
   "source": [
    "### 2. Кореляционный анализ"
   ]
  },
  {
   "cell_type": "markdown",
   "metadata": {},
   "source": [
    "Сначала посмотрим на корреляцию всех параметров (кроме категорийных, таких как: год, месяц, день месяца, день недели).\n",
    "Выведем матрицу корреляции с коэффициентом корреляции Пирсона."
   ]
  },
  {
   "cell_type": "code",
   "execution_count": 8,
   "metadata": {},
   "outputs": [
    {
     "data": {
      "text/html": [
       "<div>\n",
       "<style scoped>\n",
       "    .dataframe tbody tr th:only-of-type {\n",
       "        vertical-align: middle;\n",
       "    }\n",
       "\n",
       "    .dataframe tbody tr th {\n",
       "        vertical-align: top;\n",
       "    }\n",
       "\n",
       "    .dataframe thead th {\n",
       "        text-align: right;\n",
       "    }\n",
       "</style>\n",
       "<table border=\"1\" class=\"dataframe\">\n",
       "  <thead>\n",
       "    <tr style=\"text-align: right;\">\n",
       "      <th></th>\n",
       "      <th>orders_cnt</th>\n",
       "      <th>orders_sum</th>\n",
       "      <th>orders_weight</th>\n",
       "      <th>orders_weight_avg</th>\n",
       "      <th>orders_sum_avg</th>\n",
       "      <th>viewes</th>\n",
       "      <th>users</th>\n",
       "      <th>usd</th>\n",
       "    </tr>\n",
       "  </thead>\n",
       "  <tbody>\n",
       "    <tr>\n",
       "      <th>orders_cnt</th>\n",
       "      <td>1.000000</td>\n",
       "      <td>0.682286</td>\n",
       "      <td>0.689709</td>\n",
       "      <td>-0.133929</td>\n",
       "      <td>0.139519</td>\n",
       "      <td>0.646151</td>\n",
       "      <td>0.320078</td>\n",
       "      <td>-0.400707</td>\n",
       "    </tr>\n",
       "    <tr>\n",
       "      <th>orders_sum</th>\n",
       "      <td>0.682286</td>\n",
       "      <td>1.000000</td>\n",
       "      <td>0.557330</td>\n",
       "      <td>0.010202</td>\n",
       "      <td>0.787136</td>\n",
       "      <td>0.430784</td>\n",
       "      <td>0.148244</td>\n",
       "      <td>-0.146765</td>\n",
       "    </tr>\n",
       "    <tr>\n",
       "      <th>orders_weight</th>\n",
       "      <td>0.689709</td>\n",
       "      <td>0.557330</td>\n",
       "      <td>1.000000</td>\n",
       "      <td>0.562385</td>\n",
       "      <td>0.214078</td>\n",
       "      <td>0.404825</td>\n",
       "      <td>0.190501</td>\n",
       "      <td>-0.200184</td>\n",
       "    </tr>\n",
       "    <tr>\n",
       "      <th>orders_weight_avg</th>\n",
       "      <td>-0.133929</td>\n",
       "      <td>0.010202</td>\n",
       "      <td>0.562385</td>\n",
       "      <td>1.000000</td>\n",
       "      <td>0.135588</td>\n",
       "      <td>-0.127568</td>\n",
       "      <td>-0.075271</td>\n",
       "      <td>0.152541</td>\n",
       "    </tr>\n",
       "    <tr>\n",
       "      <th>orders_sum_avg</th>\n",
       "      <td>0.139519</td>\n",
       "      <td>0.787136</td>\n",
       "      <td>0.214078</td>\n",
       "      <td>0.135588</td>\n",
       "      <td>1.000000</td>\n",
       "      <td>0.087879</td>\n",
       "      <td>-0.025352</td>\n",
       "      <td>0.093615</td>\n",
       "    </tr>\n",
       "    <tr>\n",
       "      <th>viewes</th>\n",
       "      <td>0.646151</td>\n",
       "      <td>0.430784</td>\n",
       "      <td>0.404825</td>\n",
       "      <td>-0.127568</td>\n",
       "      <td>0.087879</td>\n",
       "      <td>1.000000</td>\n",
       "      <td>0.809654</td>\n",
       "      <td>-0.442170</td>\n",
       "    </tr>\n",
       "    <tr>\n",
       "      <th>users</th>\n",
       "      <td>0.320078</td>\n",
       "      <td>0.148244</td>\n",
       "      <td>0.190501</td>\n",
       "      <td>-0.075271</td>\n",
       "      <td>-0.025352</td>\n",
       "      <td>0.809654</td>\n",
       "      <td>1.000000</td>\n",
       "      <td>-0.317674</td>\n",
       "    </tr>\n",
       "    <tr>\n",
       "      <th>usd</th>\n",
       "      <td>-0.400707</td>\n",
       "      <td>-0.146765</td>\n",
       "      <td>-0.200184</td>\n",
       "      <td>0.152541</td>\n",
       "      <td>0.093615</td>\n",
       "      <td>-0.442170</td>\n",
       "      <td>-0.317674</td>\n",
       "      <td>1.000000</td>\n",
       "    </tr>\n",
       "  </tbody>\n",
       "</table>\n",
       "</div>"
      ],
      "text/plain": [
       "                   orders_cnt  orders_sum  orders_weight  orders_weight_avg  \\\n",
       "orders_cnt           1.000000    0.682286       0.689709          -0.133929   \n",
       "orders_sum           0.682286    1.000000       0.557330           0.010202   \n",
       "orders_weight        0.689709    0.557330       1.000000           0.562385   \n",
       "orders_weight_avg   -0.133929    0.010202       0.562385           1.000000   \n",
       "orders_sum_avg       0.139519    0.787136       0.214078           0.135588   \n",
       "viewes               0.646151    0.430784       0.404825          -0.127568   \n",
       "users                0.320078    0.148244       0.190501          -0.075271   \n",
       "usd                 -0.400707   -0.146765      -0.200184           0.152541   \n",
       "\n",
       "                   orders_sum_avg    viewes     users       usd  \n",
       "orders_cnt               0.139519  0.646151  0.320078 -0.400707  \n",
       "orders_sum               0.787136  0.430784  0.148244 -0.146765  \n",
       "orders_weight            0.214078  0.404825  0.190501 -0.200184  \n",
       "orders_weight_avg        0.135588 -0.127568 -0.075271  0.152541  \n",
       "orders_sum_avg           1.000000  0.087879 -0.025352  0.093615  \n",
       "viewes                   0.087879  1.000000  0.809654 -0.442170  \n",
       "users                   -0.025352  0.809654  1.000000 -0.317674  \n",
       "usd                      0.093615 -0.442170 -0.317674  1.000000  "
      ]
     },
     "execution_count": 8,
     "metadata": {},
     "output_type": "execute_result"
    }
   ],
   "source": [
    "df[['orders_cnt','orders_sum','orders_weight','orders_weight_avg','orders_sum_avg','viewes','users','usd']].corr()"
   ]
  },
  {
   "cell_type": "markdown",
   "metadata": {},
   "source": [
    "Есть ряд очевидных и непредставляющих интерес высоких положительных корреляций между параметрами orders_cnt, orders_sum, orders_weight, viewes и users.\n",
    "\n",
    "Но есть и ряд интересных взаимосвязей: \n",
    "* usd x orders_cnt, viewes - относительно высокая отрицательная корреляция\n",
    "* orders_sum_avg x orders_weight_avg - относительно слабая корреляция, несмотря на то что средний вес должен расти вместе со средним чеком.\n",
    "\n",
    "Мы можем предположить, что причина низкой корреляции среднего чека со средним весом может быть объяснена инфляцией и курсовой разницей (т.к. существенна часть продаваемых товаров является импортом).\n",
    "\n",
    "Добавим новую колонку средний чек в USD и рассчитаем коэффициент Пирсона для нового параметра, а также рассчитаем коэффициент Кенадалла, чтобы проверить нелинейные корреляции. "
   ]
  },
  {
   "cell_type": "code",
   "execution_count": 9,
   "metadata": {},
   "outputs": [
    {
     "data": {
      "text/html": [
       "<div>\n",
       "<style scoped>\n",
       "    .dataframe tbody tr th:only-of-type {\n",
       "        vertical-align: middle;\n",
       "    }\n",
       "\n",
       "    .dataframe tbody tr th {\n",
       "        vertical-align: top;\n",
       "    }\n",
       "\n",
       "    .dataframe thead th {\n",
       "        text-align: right;\n",
       "    }\n",
       "</style>\n",
       "<table border=\"1\" class=\"dataframe\">\n",
       "  <thead>\n",
       "    <tr style=\"text-align: right;\">\n",
       "      <th></th>\n",
       "      <th>orders_weight_avg</th>\n",
       "      <th>orders_sum_avg</th>\n",
       "      <th>orders_sum_avg_usd</th>\n",
       "    </tr>\n",
       "  </thead>\n",
       "  <tbody>\n",
       "    <tr>\n",
       "      <th>orders_weight_avg</th>\n",
       "      <td>1.000000</td>\n",
       "      <td>0.135588</td>\n",
       "      <td>0.117806</td>\n",
       "    </tr>\n",
       "    <tr>\n",
       "      <th>orders_sum_avg</th>\n",
       "      <td>0.135588</td>\n",
       "      <td>1.000000</td>\n",
       "      <td>0.988942</td>\n",
       "    </tr>\n",
       "    <tr>\n",
       "      <th>orders_sum_avg_usd</th>\n",
       "      <td>0.117806</td>\n",
       "      <td>0.988942</td>\n",
       "      <td>1.000000</td>\n",
       "    </tr>\n",
       "  </tbody>\n",
       "</table>\n",
       "</div>"
      ],
      "text/plain": [
       "                    orders_weight_avg  orders_sum_avg  orders_sum_avg_usd\n",
       "orders_weight_avg            1.000000        0.135588            0.117806\n",
       "orders_sum_avg               0.135588        1.000000            0.988942\n",
       "orders_sum_avg_usd           0.117806        0.988942            1.000000"
      ]
     },
     "execution_count": 9,
     "metadata": {},
     "output_type": "execute_result"
    }
   ],
   "source": [
    "df['orders_sum_avg_usd'] = df['orders_sum_avg']/df['usd']\n",
    "df[['orders_weight_avg','orders_sum_avg','orders_sum_avg_usd']].corr()"
   ]
  },
  {
   "cell_type": "code",
   "execution_count": 10,
   "metadata": {},
   "outputs": [
    {
     "data": {
      "text/html": [
       "<div>\n",
       "<style scoped>\n",
       "    .dataframe tbody tr th:only-of-type {\n",
       "        vertical-align: middle;\n",
       "    }\n",
       "\n",
       "    .dataframe tbody tr th {\n",
       "        vertical-align: top;\n",
       "    }\n",
       "\n",
       "    .dataframe thead th {\n",
       "        text-align: right;\n",
       "    }\n",
       "</style>\n",
       "<table border=\"1\" class=\"dataframe\">\n",
       "  <thead>\n",
       "    <tr style=\"text-align: right;\">\n",
       "      <th></th>\n",
       "      <th>orders_weight_avg</th>\n",
       "      <th>orders_sum_avg</th>\n",
       "      <th>orders_sum_avg_usd</th>\n",
       "    </tr>\n",
       "  </thead>\n",
       "  <tbody>\n",
       "    <tr>\n",
       "      <th>orders_weight_avg</th>\n",
       "      <td>1.000000</td>\n",
       "      <td>0.191259</td>\n",
       "      <td>0.151393</td>\n",
       "    </tr>\n",
       "    <tr>\n",
       "      <th>orders_sum_avg</th>\n",
       "      <td>0.191259</td>\n",
       "      <td>1.000000</td>\n",
       "      <td>0.813132</td>\n",
       "    </tr>\n",
       "    <tr>\n",
       "      <th>orders_sum_avg_usd</th>\n",
       "      <td>0.151393</td>\n",
       "      <td>0.813132</td>\n",
       "      <td>1.000000</td>\n",
       "    </tr>\n",
       "  </tbody>\n",
       "</table>\n",
       "</div>"
      ],
      "text/plain": [
       "                    orders_weight_avg  orders_sum_avg  orders_sum_avg_usd\n",
       "orders_weight_avg            1.000000        0.191259            0.151393\n",
       "orders_sum_avg               0.191259        1.000000            0.813132\n",
       "orders_sum_avg_usd           0.151393        0.813132            1.000000"
      ]
     },
     "execution_count": 10,
     "metadata": {},
     "output_type": "execute_result"
    }
   ],
   "source": [
    "df[['orders_weight_avg','orders_sum_avg','orders_sum_avg_usd']].corr(method=\"kendall\")"
   ]
  },
  {
   "cell_type": "markdown",
   "metadata": {},
   "source": [
    "Видим, что предположение было неверным и корреляция не только не увеличилась, а наоборот, уменьшилась даже при учете ранговой корреляции.\n",
    "\n",
    "А вот связь курса доллара и количества заказов довольно интересна."
   ]
  },
  {
   "cell_type": "markdown",
   "metadata": {},
   "source": [
    "### 3. Проверка на значимость связи курса доллара и количества заказов"
   ]
  },
  {
   "cell_type": "markdown",
   "metadata": {},
   "source": [
    "Нулевая гипотеза: реальный коэффициент корреляции между курсом доллара и количеством заказов равен 0. \n",
    "\n",
    "Альтернативная гипотеза двухсторонняя.\n",
    "\n",
    "Уровень значимости установим в 0.05"
   ]
  },
  {
   "cell_type": "code",
   "execution_count": 11,
   "metadata": {},
   "outputs": [
    {
     "data": {
      "text/plain": [
       "(-1.962136771101666, 1.9621367711016655, -14.459166793276456)"
      ]
     },
     "execution_count": 11,
     "metadata": {},
     "output_type": "execute_result"
    }
   ],
   "source": [
    "# подсчет статистики\n",
    "def statistic(r:float, n: int) -> float:\n",
    "    return r * math.sqrt(n-2) / math.sqrt(1-r**2)\n",
    "\n",
    "n = df.shape[0]\n",
    "r = df[['orders_cnt','usd']].corr()['orders_cnt']['usd']\n",
    "alpha = 0.05\n",
    "\n",
    "# Найдем границы критической области\n",
    "from scipy import stats\n",
    "\n",
    "t1 = stats.t.ppf(alpha / 2, df=n - 2)\n",
    "t2 = stats.t.ppf(1 - alpha / 2, df=n - 2)\n",
    "\n",
    "t1, t2, statistic(r, n)"
   ]
  },
  {
   "cell_type": "markdown",
   "metadata": {},
   "source": [
    "Статистика не попадает в критическую область, значит нулевая гипотеза отвергается и связь - есть.\n",
    "\n",
    "На мой взгляд, это довольно неочевидная корреляция."
   ]
  },
  {
   "cell_type": "markdown",
   "metadata": {},
   "source": [
    "### 4. Проверка на нормальность среднего веса заказа\n",
    "\n",
    "Мы проверим средний вес заказа, т.к. стоимость заказа согласно условиям сайта не может быть меньше 1500 р. Это ограничение может испортить нормальность ценовых показателей. В свою очередь вес заказа никаких односторонних ограничений не имеет. \n",
    "\n",
    "1) Оценим нормальность на соответствие правилу разброса"
   ]
  },
  {
   "cell_type": "code",
   "execution_count": 12,
   "metadata": {},
   "outputs": [],
   "source": [
    "# Получение 3 сигм для нормального распределения\n",
    "def sigma3Norm(loc, scale):\n",
    "    sigmas = []\n",
    "    for i in range(1, 4):\n",
    "        sigmas.append(stats.norm.cdf(i) - stats.norm.cdf(-i))\n",
    "    return sigmas\n",
    "\n",
    "# Получение 3 сигм по выборке\n",
    "def sigma3(df, key):\n",
    "    samples = df[key]\n",
    "    \n",
    "    loc = samples.mean()\n",
    "    scale = samples.std()\n",
    "    sigmas = []\n",
    "    \n",
    "    for i in range(1, 4):\n",
    "        sigmas.append(((samples >= loc - i * scale) & (samples <= loc + i * scale)).sum() / samples.shape[0])\n",
    "    return sigmas"
   ]
  },
  {
   "cell_type": "code",
   "execution_count": 13,
   "metadata": {},
   "outputs": [
    {
     "data": {
      "text/plain": [
       "[0.6826894921370859, 0.9544997361036416, 0.9973002039367398]"
      ]
     },
     "execution_count": 13,
     "metadata": {},
     "output_type": "execute_result"
    }
   ],
   "source": [
    "sigma3Norm(df['orders_weight_avg'].mean(), df['orders_weight_avg'].std())"
   ]
  },
  {
   "cell_type": "code",
   "execution_count": 14,
   "metadata": {},
   "outputs": [
    {
     "data": {
      "text/plain": [
       "[0.7753424657534247, 0.958904109589041, 0.9872146118721461]"
      ]
     },
     "execution_count": 14,
     "metadata": {},
     "output_type": "execute_result"
    }
   ],
   "source": [
    "sigma3(df, 'orders_weight_avg')"
   ]
  },
  {
   "cell_type": "markdown",
   "metadata": {},
   "source": [
    "К сожалению, по правилу 3 сигм распределение среднего веса заказа не соответсвует нормальному распределению.\n",
    "\n",
    "Посмотрим что мы увидим на графике Q-Q"
   ]
  },
  {
   "cell_type": "code",
   "execution_count": 15,
   "metadata": {},
   "outputs": [],
   "source": [
    "# Изображение Q-Q графика\n",
    "def Qq(df, key):\n",
    "    fig, ax = plt.subplots(ncols=1)\n",
    "    fig.set_size_inches(10, 4)\n",
    "\n",
    "    samples = df[key]\n",
    "\n",
    "    loc = samples.mean()\n",
    "    scale = samples.std()\n",
    "\n",
    "    interval = np.linspace(0, 1, samples.shape[0])[1:-1]\n",
    "    x = stats.norm.ppf(interval, loc=loc, scale=scale)\n",
    "    y = np.quantile(samples, interval)\n",
    "\n",
    "    ax.scatter(x, y, s=5)\n",
    "    ax.plot(x, x, color='C1', linestyle='dashed')\n",
    "\n",
    "    ax.set_title(key)\n",
    "    ax.set_xlabel('теоретические квантили')\n",
    "    ax.set_ylabel('квантили выборки')"
   ]
  },
  {
   "cell_type": "code",
   "execution_count": 16,
   "metadata": {},
   "outputs": [
    {
     "data": {
      "image/png": "[encoded data removed]",
      "text/plain": [
       "<Figure size 720x288 with 1 Axes>"
      ]
     },
     "metadata": {},
     "output_type": "display_data"
    }
   ],
   "source": [
    "Qq(df, 'orders_weight_avg')"
   ]
  },
  {
   "cell_type": "markdown",
   "metadata": {},
   "source": [
    "К сожалению, и тут мы получили расхождение с нормальными данными.\n",
    "Скорее всего величина имеет отличное от нормального распределения."
   ]
  },
  {
   "cell_type": "markdown",
   "metadata": {},
   "source": [
    "### 5. Дисперсный анализ влияния месяца на выручку\n",
    "\n",
    "Напоследок проведем дисперсный анализ влияния месяца на выручку.\n",
    "\n",
    "Скорее всего период предноовогдних хлопот приводят к резкому повышению выручки.\n",
    "\n",
    "Для начала посмотрим влоб на выборочное среднее и среднеквадратическое отклонение по месяцам."
   ]
  },
  {
   "cell_type": "code",
   "execution_count": 17,
   "metadata": {},
   "outputs": [
    {
     "name": "stdout",
     "output_type": "stream",
     "text": [
      "Месяц 1\n",
      "220226.79569892472 90375.96487458465\n",
      "Месяц 2\n",
      "225963.40476190476 66909.22799253542\n",
      "Месяц 3\n",
      "219243.94623655913 77318.59180398608\n",
      "Месяц 4\n",
      "189292.13333333333 69325.08243121231\n",
      "Месяц 5\n",
      "168346.688172043 50684.14334813518\n",
      "Месяц 6\n",
      "151282.88888888888 51384.30549191448\n",
      "Месяц 7\n",
      "127571.6129032258 48718.52858045059\n",
      "Месяц 8\n",
      "140586.05376344087 62505.41240779726\n",
      "Месяц 9\n",
      "174758.2 66660.23382766935\n",
      "Месяц 10\n",
      "186080.16129032258 66323.91009270014\n",
      "Месяц 11\n",
      "228733.55555555556 189205.11320584986\n",
      "Месяц 12\n",
      "408949.75268817204 230901.71971517947\n"
     ]
    }
   ],
   "source": [
    "for m in range(1,13):\n",
    "    monthstr = str(m)\n",
    "    print(\"Месяц \"+str(monthstr))\n",
    "    print(df.loc[df['month']==m].mean()['orders_sum'], df.loc[df['month']==m].std()['orders_sum'])"
   ]
  },
  {
   "cell_type": "raw",
   "metadata": {},
   "source": [
    "Невооруженным взглядом видно, что наибольшая выручка достигается в декабре, а наименьшая - летом. Отличие составляет более 300%.\n",
    "\n",
    "Проверим гипотезу о зависимости выручки от месяца.\n",
    "\n",
    "За нулевую гипотезу примем: что выручка не зависит от месяца. \n",
    "\n",
    "Альтернативная гипотеза - выручки отличаются.\n",
    "\n",
    "Примем уровень значимости в 0.05"
   ]
  },
  {
   "cell_type": "code",
   "execution_count": 18,
   "metadata": {},
   "outputs": [],
   "source": [
    "k = 12\n",
    "n = df.shape[0]\n",
    "alpha = 0.05"
   ]
  },
  {
   "cell_type": "markdown",
   "metadata": {},
   "source": [
    "Определим критическую область для односторонней альтернативной гипотезы."
   ]
  },
  {
   "cell_type": "code",
   "execution_count": 19,
   "metadata": {},
   "outputs": [
    {
     "data": {
      "text/plain": [
       "1.797477209121018"
      ]
     },
     "execution_count": 19,
     "metadata": {},
     "output_type": "execute_result"
    }
   ],
   "source": [
    "k1 = k-1\n",
    "k2 = n-k\n",
    "\n",
    "# критическая область\n",
    "t = stats.f.ppf(1 - alpha, k1, k2)\n",
    "t"
   ]
  },
  {
   "cell_type": "markdown",
   "metadata": {},
   "source": [
    "Посчитаем статистику"
   ]
  },
  {
   "cell_type": "code",
   "execution_count": 20,
   "metadata": {},
   "outputs": [
    {
     "data": {
      "text/plain": [
       "44.64025906449105"
      ]
     },
     "execution_count": 20,
     "metadata": {},
     "output_type": "execute_result"
    }
   ],
   "source": [
    "SSb = 0\n",
    "SSw = 0\n",
    "\n",
    "Ymean = df.mean()['orders_sum']\n",
    "\n",
    "for m in range(1,13):\n",
    "    Yimean = df.loc[df['month']==m].mean()['orders_sum']\n",
    "    Ni = df.loc[df['month']==m].shape[0]\n",
    "    SSb += ((Yimean - Ymean)**2)*Ni\n",
    "    nw = np.square((df.loc[df['month']==m]['orders_sum'] -Yimean).to_numpy(copy=True))\n",
    "    SSw += nw.sum()\n",
    "\n",
    "F = (SSb * (n-k)) / (SSw*(k-1))\n",
    "F"
   ]
  },
  {
   "cell_type": "markdown",
   "metadata": {},
   "source": [
    "Гипотеза провалилась с треском, а значит месяц влияет на сумму заказа."
   ]
  }
 ],
 "metadata": {
  "kernelspec": {
   "display_name": "Python 3",
   "language": "python",
   "name": "python3"
  },
  "language_info": {
   "codemirror_mode": {
    "name": "ipython",
    "version": 3
   },
   "file_extension": ".py",
   "mimetype": "text/x-python",
   "name": "python",
   "nbconvert_exporter": "python",
   "pygments_lexer": "ipython3",
   "version": "3.8.3"
  }
 },
 "nbformat": 4,
 "nbformat_minor": 4
}
